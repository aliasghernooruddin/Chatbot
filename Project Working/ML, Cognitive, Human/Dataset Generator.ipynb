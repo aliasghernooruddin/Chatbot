{
 "cells": [
  {
   "cell_type": "code",
   "execution_count": 1,
   "metadata": {},
   "outputs": [],
   "source": [
    "import pandas as pd\n",
    "from random import shuffle"
   ]
  },
  {
   "cell_type": "code",
   "execution_count": 2,
   "metadata": {},
   "outputs": [],
   "source": [
    "df = pd.read_excel('dataset.xlsx')"
   ]
  },
  {
   "cell_type": "code",
   "execution_count": 4,
   "metadata": {},
   "outputs": [],
   "source": [
    "df = df[['Queries','Labels']]"
   ]
  },
  {
   "cell_type": "code",
   "execution_count": 6,
   "metadata": {},
   "outputs": [],
   "source": [
    "INFO = df[df['Labels']==0]\n",
    "ATTENDANCE = df[df['Labels']==1]\n",
    "CGPA = df[df['Labels']==2]\n",
    "CLASS_TIMINGS = df[df['Labels']==3]\n",
    "FINAL_SCHEDULE = df[df['Labels']==4]\n",
    "HOSTEL_FEE = df[df['Labels']==5]\n",
    "MAX_CGPA = df[df['Labels']==6]\n",
    "MID_SCHEDULE = df[df['Labels']==7]\n",
    "MIN_CGPA = df[df['Labels']==8]\n",
    "PRINT_FINAL_ADMIT_CARD = df[df['Labels']==9]\n",
    "PRINT_MID_ADMIT_CARD = df[df['Labels']==10]\n",
    "REGISTERED_COURSES = df[df['Labels']==11]\n",
    "CREDIT_HOURS = df[df['Labels']==12]\n",
    "RESULT = df[df['Labels']==13]\n",
    "TUITION_FEE = df[df['Labels']==14]\n",
    "TRANSPORT_FEE = df[df['Labels']==15]"
   ]
  },
  {
   "cell_type": "code",
   "execution_count": 7,
   "metadata": {},
   "outputs": [],
   "source": [
    "def shuffle_word(text):\n",
    "    text = text.split()\n",
    "    shuffle(text)\n",
    "    text = ' '.join(text)\n",
    "    return text"
   ]
  },
  {
   "cell_type": "code",
   "execution_count": 10,
   "metadata": {},
   "outputs": [],
   "source": [
    "Labels = [INFO,ATTENDANCE,CGPA,CLASS_TIMINGS,FINAL_SCHEDULE,HOSTEL_FEE,MAX_CGPA,MID_SCHEDULE,MIN_CGPA,PRINT_FINAL_ADMIT_CARD,PRINT_MID_ADMIT_CARD,REGISTERED_COURSES,CREDIT_HOURS,RESULT,TUITION_FEE,TRANSPORT_FEE]\n",
    "Labels_Name = ['INFO','ATTENDANCE','CGPA','CLASS_TIMINGS','FINAL_SCHEDULE','HOSTEL_FEE','MAX_CGPA','MID_SCHEDULE','MIN_CGPA','PRINT_FINAL_ADMIT_CARD','PRINT_MID_ADMIT_CARD','REGISTERED_COURSES','CREDIT_HOURS','RESULT','TUITION_FEE','TRANSPORT_FEE']\n",
    "\n",
    "new_data = {}\n",
    "for index,Label in enumerate(Labels):\n",
    "    df = Label['Queries']\n",
    "    new_data[Labels_Name[index]] = [] \n",
    "    for values in df:\n",
    "        for i in range(1,50):\n",
    "            new_data[Labels_Name[index]].append(shuffle_word(values))\n",
    "    new_data[Labels_Name[index]] = list(set(new_data[Labels_Name[index]]))"
   ]
  },
  {
   "cell_type": "code",
   "execution_count": 11,
   "metadata": {},
   "outputs": [],
   "source": [
    "df = pd.DataFrame()"
   ]
  },
  {
   "cell_type": "code",
   "execution_count": 12,
   "metadata": {},
   "outputs": [],
   "source": [
    "new_dataset = []\n",
    "for index,values in enumerate(new_data):\n",
    "    data = new_data[values]\n",
    "    for item in data:\n",
    "        obj = {}\n",
    "        obj['query'] = item\n",
    "        obj['label'] = index\n",
    "        new_dataset.append(obj)"
   ]
  },
  {
   "cell_type": "code",
   "execution_count": 13,
   "metadata": {},
   "outputs": [],
   "source": [
    "df = pd.DataFrame(new_dataset)"
   ]
  },
  {
   "cell_type": "code",
   "execution_count": 14,
   "metadata": {},
   "outputs": [],
   "source": [
    "df.to_excel('latest_dataset.xlsx',index=False)"
   ]
  }
 ],
 "metadata": {
  "kernelspec": {
   "display_name": "Python 3",
   "language": "python",
   "name": "python3"
  },
  "language_info": {
   "codemirror_mode": {
    "name": "ipython",
    "version": 3
   },
   "file_extension": ".py",
   "mimetype": "text/x-python",
   "name": "python",
   "nbconvert_exporter": "python",
   "pygments_lexer": "ipython3",
   "version": "3.7.1"
  }
 },
 "nbformat": 4,
 "nbformat_minor": 2
}
