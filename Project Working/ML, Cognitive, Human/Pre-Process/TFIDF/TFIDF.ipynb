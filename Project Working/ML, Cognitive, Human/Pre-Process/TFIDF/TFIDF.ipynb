{
 "cells": [
  {
   "cell_type": "code",
   "execution_count": 1,
   "metadata": {},
   "outputs": [],
   "source": [
    "#import all libraries\n",
    "import os\n",
    "import pandas as pd\n",
    "import re\n",
    "import json\n",
    "from sklearn.feature_extraction.text import TfidfVectorizer\n",
    "import matplotlib.pyplot as plt\n",
    "from wordcloud import WordCloud"
   ]
  },
  {
   "cell_type": "code",
   "execution_count": 2,
   "metadata": {},
   "outputs": [
    {
     "name": "stdout",
     "output_type": "stream",
     "text": [
      "C:\\Users\\User\\Desktop\\Chatbot\\Project Working\\ML, Cognitive, Human\\Pre-Process\n"
     ]
    }
   ],
   "source": [
    "os.chdir('../')\n",
    "print(os.getcwd())"
   ]
  },
  {
   "cell_type": "code",
   "execution_count": 3,
   "metadata": {},
   "outputs": [],
   "source": [
    "df = pd.read_excel('cleaned_queries.xlsx', usecols='A,B')"
   ]
  },
  {
   "cell_type": "code",
   "execution_count": 4,
   "metadata": {},
   "outputs": [],
   "source": [
    "df.dropna(inplace=True)"
   ]
  },
  {
   "cell_type": "code",
   "execution_count": 7,
   "metadata": {},
   "outputs": [
    {
     "data": {
      "text/html": [
       "<div>\n",
       "<style scoped>\n",
       "    .dataframe tbody tr th:only-of-type {\n",
       "        vertical-align: middle;\n",
       "    }\n",
       "\n",
       "    .dataframe tbody tr th {\n",
       "        vertical-align: top;\n",
       "    }\n",
       "\n",
       "    .dataframe thead th {\n",
       "        text-align: right;\n",
       "    }\n",
       "</style>\n",
       "<table border=\"1\" class=\"dataframe\">\n",
       "  <thead>\n",
       "    <tr style=\"text-align: right;\">\n",
       "      <th></th>\n",
       "      <th>query</th>\n",
       "    </tr>\n",
       "    <tr>\n",
       "      <th>label</th>\n",
       "      <th></th>\n",
       "    </tr>\n",
       "  </thead>\n",
       "  <tbody>\n",
       "    <tr>\n",
       "      <th>0</th>\n",
       "      <td>53</td>\n",
       "    </tr>\n",
       "    <tr>\n",
       "      <th>1</th>\n",
       "      <td>105</td>\n",
       "    </tr>\n",
       "    <tr>\n",
       "      <th>2</th>\n",
       "      <td>140</td>\n",
       "    </tr>\n",
       "    <tr>\n",
       "      <th>3</th>\n",
       "      <td>177</td>\n",
       "    </tr>\n",
       "    <tr>\n",
       "      <th>4</th>\n",
       "      <td>206</td>\n",
       "    </tr>\n",
       "    <tr>\n",
       "      <th>5</th>\n",
       "      <td>123</td>\n",
       "    </tr>\n",
       "    <tr>\n",
       "      <th>6</th>\n",
       "      <td>192</td>\n",
       "    </tr>\n",
       "    <tr>\n",
       "      <th>7</th>\n",
       "      <td>202</td>\n",
       "    </tr>\n",
       "    <tr>\n",
       "      <th>8</th>\n",
       "      <td>187</td>\n",
       "    </tr>\n",
       "    <tr>\n",
       "      <th>9</th>\n",
       "      <td>180</td>\n",
       "    </tr>\n",
       "    <tr>\n",
       "      <th>10</th>\n",
       "      <td>186</td>\n",
       "    </tr>\n",
       "    <tr>\n",
       "      <th>11</th>\n",
       "      <td>204</td>\n",
       "    </tr>\n",
       "    <tr>\n",
       "      <th>12</th>\n",
       "      <td>183</td>\n",
       "    </tr>\n",
       "    <tr>\n",
       "      <th>13</th>\n",
       "      <td>59</td>\n",
       "    </tr>\n",
       "    <tr>\n",
       "      <th>14</th>\n",
       "      <td>130</td>\n",
       "    </tr>\n",
       "    <tr>\n",
       "      <th>15</th>\n",
       "      <td>124</td>\n",
       "    </tr>\n",
       "  </tbody>\n",
       "</table>\n",
       "</div>"
      ],
      "text/plain": [
       "       query\n",
       "label       \n",
       "0         53\n",
       "1        105\n",
       "2        140\n",
       "3        177\n",
       "4        206\n",
       "5        123\n",
       "6        192\n",
       "7        202\n",
       "8        187\n",
       "9        180\n",
       "10       186\n",
       "11       204\n",
       "12       183\n",
       "13        59\n",
       "14       130\n",
       "15       124"
      ]
     },
     "execution_count": 7,
     "metadata": {},
     "output_type": "execute_result"
    }
   ],
   "source": [
    "#we get to know count of how many rows each label has\n",
    "df.groupby('label').count()"
   ]
  },
  {
   "cell_type": "code",
   "execution_count": 11,
   "metadata": {},
   "outputs": [],
   "source": [
    "# INFO = df[df['Label']==0]\n",
    "# HOSTEL_FEE = df[df['Label']==1]\n",
    "# TUITION_FEE = df[df['Label']==2]\n",
    "# TRANSPORT_FEE = df[df['Label']==3]\n",
    "# MID_SCHEDULE = df[df['Label']==4]\n",
    "# FINAL_SCHEDULE = df[df['Label']==5]\n",
    "# CLASS_TIMINGS = df[df['Label']==6]\n",
    "# RESULT = df[df['Label']==7]\n",
    "# RESULT_SEMESTER = df[df['Label']==8]\n",
    "# CGPA = df[df['Label']==9]\n",
    "# MAX_CGPA = df[df['Label']==10]\n",
    "# MIN_CGPA = df[df['Label']==11]\n",
    "# ATTENDANCE = df[df['Label']==12]\n",
    "# ATTENDANCE_SUBJECT = df[df['Label']==13]\n",
    "# CREDIT_HOURS_PASSED = df[df['Label']==14]\n",
    "# REQUIRED_CREDIT_HOURS = df[df['Label']==15]\n",
    "# REGISTERED_COURSES = df[df['Label']==16]\n",
    "# PRINT_MID_ADMIT_CARD = df[df['Label']==17]\n",
    "# PRINT_FINAL_ADMIT_CARD = df[df['Label']==18]\n",
    "\n",
    "INFO = df[df['label']==0]\n",
    "ATTENDANCE = df[df['label']==1]\n",
    "CGPA = df[df['label']==2]\n",
    "CLASS_TIMINGS = df[df['label']==3]\n",
    "FINAL_SCHEDULE = df[df['label']==4]\n",
    "HOSTEL_FEE = df[df['label']==5]\n",
    "MAX_CGPA = df[df['label']==6]\n",
    "MID_SCHEDULE = df[df['label']==7]\n",
    "MIN_CGPA = df[df['label']==8]\n",
    "PRINT_FINAL_ADMIT_CARD = df[df['label']==9]\n",
    "PRINT_MID_ADMIT_CARD = df[df['label']==10]\n",
    "REGISTERED_COURSES = df[df['label']==11]\n",
    "CREDIT_HOURS = df[df['label']==12]\n",
    "RESULT = df[df['label']==13]\n",
    "TUITION_FEE = df[df['label']==14]\n",
    "TRANSPORT_FEE = df[df['label']==15]"
   ]
  },
  {
   "cell_type": "code",
   "execution_count": 30,
   "metadata": {},
   "outputs": [
    {
     "ename": "FileNotFoundError",
     "evalue": "[WinError 2] The system cannot find the file specified: 'TFIDF'",
     "output_type": "error",
     "traceback": [
      "\u001b[1;31m---------------------------------------------------------------------------\u001b[0m",
      "\u001b[1;31mFileNotFoundError\u001b[0m                         Traceback (most recent call last)",
      "\u001b[1;32m<ipython-input-30-93e567c4d3c4>\u001b[0m in \u001b[0;36m<module>\u001b[1;34m\u001b[0m\n\u001b[1;32m----> 1\u001b[1;33m \u001b[0mos\u001b[0m\u001b[1;33m.\u001b[0m\u001b[0mchdir\u001b[0m\u001b[1;33m(\u001b[0m\u001b[1;34m'TFIDF'\u001b[0m\u001b[1;33m)\u001b[0m\u001b[1;33m\u001b[0m\u001b[1;33m\u001b[0m\u001b[0m\n\u001b[0m",
      "\u001b[1;31mFileNotFoundError\u001b[0m: [WinError 2] The system cannot find the file specified: 'TFIDF'"
     ]
    }
   ],
   "source": [
    "os.chdir('TFIDF')"
   ]
  },
  {
   "cell_type": "code",
   "execution_count": 25,
   "metadata": {},
   "outputs": [],
   "source": [
    "Labels = [INFO,ATTENDANCE,CGPA,CLASS_TIMINGS,FINAL_SCHEDULE,HOSTEL_FEE,MAX_CGPA,MID_SCHEDULE,MIN_CGPA,PRINT_FINAL_ADMIT_CARD,PRINT_MID_ADMIT_CARD,REGISTERED_COURSES,CREDIT_HOURS,RESULT,TUITION_FEE,TRANSPORT_FEE]\n",
    "Labels_Name = ['INFO','ATTENDANCE','CGPA','CLASS_TIMINGS','FINAL_SCHEDULE','HOSTEL_FEE','MAX_CGPA','MID_SCHEDULE','MIN_CGPA','PRINT_FINAL_ADMIT_CARD','PRINT_MID_ADMIT_CARD','REGISTERED_COURSES','CREDIT_HOURS','RESULT','TUITION_FEE','TRANSPORT_FEE']\n",
    "\n",
    "for index,Label in enumerate(Labels):\n",
    "    df = Label \n",
    "\n",
    "    #apply TFIDF Vectorization and generate keywords files\n",
    "    vect = TfidfVectorizer(stop_words=\"english\",lowercase=True,max_features= 50)\n",
    "    tfidf_matrix = vect.fit_transform(df['query'].values.astype('U'))\n",
    "    keywords = {}\n",
    "    for words in zip(vect.get_feature_names(),vect.idf_):\n",
    "        keywords[words[1]] = words[0]\n",
    "        \n",
    "    #sort that list to get words in ascending order\n",
    "    keyword = {}\n",
    "    for key, value in sorted(keywords.items()):\n",
    "        keyword[value] = key\n",
    "        \n",
    "    values = [value for value in keyword.values()]\n",
    "    normalized =(values-min(values))/(max(values)-min(values))\n",
    "\n",
    "    #because algorithm mimics most minimum value as zero which will basically discard our that specific keyword\n",
    "#     normalized[0] = normalized[2]-normalized[1] \n",
    "    \n",
    "    #apply normalized values to keywords\n",
    "    for value,key in enumerate(keyword.keys()):\n",
    "        keyword[key] = normalized[value]\n",
    "    \n",
    "    #ouptut results to json files\n",
    "    with open('%s.json'%Labels_Name[index], 'w') as fp:\n",
    "        json.dump(keyword, fp, indent = 4)"
   ]
  },
  {
   "cell_type": "code",
   "execution_count": 26,
   "metadata": {},
   "outputs": [],
   "source": [
    "#importing files in dataframe\n",
    "label = df['label'].unique()\n",
    "df.dropna(inplace=True,how='any')"
   ]
  },
  {
   "cell_type": "code",
   "execution_count": 28,
   "metadata": {},
   "outputs": [
    {
     "data": {
      "image/png": "[encoded data removed]",
      "text/plain": [
       "<Figure size 720x504 with 1 Axes>"
      ]
     },
     "metadata": {
      "needs_background": "light"
     },
     "output_type": "display_data"
    }
   ],
   "source": [
    "#printing wordcloud using matplotlib\n",
    "for labels in label:\n",
    "    all_words = ' '.join([text for text in df.loc[df['label']==labels]['query']])\n",
    "    wordcloud = WordCloud(width=800, height=500, random_state=21, max_font_size=110).generate(all_words)\n",
    "    \n",
    "    plt.figure(figsize=(10, 7))\n",
    "    plt.imshow(wordcloud, interpolation=\"bilinear\")\n",
    "    plt.axis('off')\n",
    "    plt.show()"
   ]
  },
  {
   "cell_type": "code",
   "execution_count": 29,
   "metadata": {},
   "outputs": [
    {
     "data": {
      "text/plain": [
       "'C:\\\\Users\\\\User\\\\Desktop\\\\Chatbot\\\\Project Working\\\\ML, Cognitive, Human\\\\Pre-Process\\\\Cognitive'"
      ]
     },
     "execution_count": 29,
     "metadata": {},
     "output_type": "execute_result"
    }
   ],
   "source": [
    "os.getcwd()"
   ]
  }
 ],
 "metadata": {
  "kernelspec": {
   "display_name": "Python 3",
   "language": "python",
   "name": "python3"
  },
  "language_info": {
   "codemirror_mode": {
    "name": "ipython",
    "version": 3
   },
   "file_extension": ".py",
   "mimetype": "text/x-python",
   "name": "python",
   "nbconvert_exporter": "python",
   "pygments_lexer": "ipython3",
   "version": "3.7.1"
  }
 },
 "nbformat": 4,
 "nbformat_minor": 2
}
