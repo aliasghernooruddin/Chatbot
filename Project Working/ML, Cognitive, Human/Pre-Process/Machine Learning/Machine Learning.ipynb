{
 "cells": [
  {
   "cell_type": "code",
   "execution_count": 1,
   "metadata": {},
   "outputs": [],
   "source": [
    "#import all libraries\n",
    "import os\n",
    "import pandas as pd\n",
    "import re\n",
    "import json\n",
    "from sklearn.metrics import accuracy_score,classification_report\n",
    "from sklearn.pipeline import Pipeline\n",
    "from sklearn.naive_bayes import MultinomialNB\n",
    "from sklearn.tree import DecisionTreeClassifier \n",
    "from sklearn.ensemble import RandomForestClassifier\n",
    "from sklearn.feature_extraction.text import CountVectorizer, TfidfTransformer\n",
    "from sklearn.model_selection import train_test_split"
   ]
  },
  {
   "cell_type": "code",
   "execution_count": 2,
   "metadata": {},
   "outputs": [
    {
     "name": "stdout",
     "output_type": "stream",
     "text": [
      "C:\\Users\\User\\Desktop\\Chatbot\\Project Working\\pre-process\n"
     ]
    }
   ],
   "source": [
    "os.chdir('../')\n",
    "print(os.getcwd())"
   ]
  },
  {
   "cell_type": "code",
   "execution_count": 3,
   "metadata": {},
   "outputs": [],
   "source": [
    "df = pd.read_excel('cleaned_queries.xlsx')"
   ]
  },
  {
   "cell_type": "code",
   "execution_count": 4,
   "metadata": {},
   "outputs": [
    {
     "data": {
      "text/html": [
       "<div>\n",
       "<style scoped>\n",
       "    .dataframe tbody tr th:only-of-type {\n",
       "        vertical-align: middle;\n",
       "    }\n",
       "\n",
       "    .dataframe tbody tr th {\n",
       "        vertical-align: top;\n",
       "    }\n",
       "\n",
       "    .dataframe thead th {\n",
       "        text-align: right;\n",
       "    }\n",
       "</style>\n",
       "<table border=\"1\" class=\"dataframe\">\n",
       "  <thead>\n",
       "    <tr style=\"text-align: right;\">\n",
       "      <th></th>\n",
       "      <th>Label</th>\n",
       "      <th>Queries</th>\n",
       "    </tr>\n",
       "  </thead>\n",
       "  <tbody>\n",
       "    <tr>\n",
       "      <th>0</th>\n",
       "      <td>0</td>\n",
       "      <td>number phone cell</td>\n",
       "    </tr>\n",
       "    <tr>\n",
       "      <th>1</th>\n",
       "      <td>0</td>\n",
       "      <td>father phone number cell</td>\n",
       "    </tr>\n",
       "    <tr>\n",
       "      <th>2</th>\n",
       "      <td>0</td>\n",
       "      <td>number cell phone</td>\n",
       "    </tr>\n",
       "    <tr>\n",
       "      <th>3</th>\n",
       "      <td>0</td>\n",
       "      <td>mery ka abbu cnic</td>\n",
       "    </tr>\n",
       "    <tr>\n",
       "      <th>4</th>\n",
       "      <td>0</td>\n",
       "      <td>number abbu meri ka</td>\n",
       "    </tr>\n",
       "  </tbody>\n",
       "</table>\n",
       "</div>"
      ],
      "text/plain": [
       "   Label                   Queries\n",
       "0      0         number phone cell\n",
       "1      0  father phone number cell\n",
       "2      0         number cell phone\n",
       "3      0         mery ka abbu cnic\n",
       "4      0       number abbu meri ka"
      ]
     },
     "execution_count": 4,
     "metadata": {},
     "output_type": "execute_result"
    }
   ],
   "source": [
    "df.head()"
   ]
  },
  {
   "cell_type": "code",
   "execution_count": 5,
   "metadata": {},
   "outputs": [],
   "source": [
    "df.dropna(inplace=True)"
   ]
  },
  {
   "cell_type": "code",
   "execution_count": 6,
   "metadata": {},
   "outputs": [
    {
     "data": {
      "text/html": [
       "<div>\n",
       "<style scoped>\n",
       "    .dataframe tbody tr th:only-of-type {\n",
       "        vertical-align: middle;\n",
       "    }\n",
       "\n",
       "    .dataframe tbody tr th {\n",
       "        vertical-align: top;\n",
       "    }\n",
       "\n",
       "    .dataframe thead th {\n",
       "        text-align: right;\n",
       "    }\n",
       "</style>\n",
       "<table border=\"1\" class=\"dataframe\">\n",
       "  <thead>\n",
       "    <tr style=\"text-align: right;\">\n",
       "      <th></th>\n",
       "      <th>Queries</th>\n",
       "    </tr>\n",
       "    <tr>\n",
       "      <th>Label</th>\n",
       "      <th></th>\n",
       "    </tr>\n",
       "  </thead>\n",
       "  <tbody>\n",
       "    <tr>\n",
       "      <th>0</th>\n",
       "      <td>222</td>\n",
       "    </tr>\n",
       "    <tr>\n",
       "      <th>1</th>\n",
       "      <td>532</td>\n",
       "    </tr>\n",
       "    <tr>\n",
       "      <th>2</th>\n",
       "      <td>203</td>\n",
       "    </tr>\n",
       "    <tr>\n",
       "      <th>3</th>\n",
       "      <td>68</td>\n",
       "    </tr>\n",
       "    <tr>\n",
       "      <th>4</th>\n",
       "      <td>437</td>\n",
       "    </tr>\n",
       "    <tr>\n",
       "      <th>5</th>\n",
       "      <td>17</td>\n",
       "    </tr>\n",
       "    <tr>\n",
       "      <th>6</th>\n",
       "      <td>59</td>\n",
       "    </tr>\n",
       "    <tr>\n",
       "      <th>7</th>\n",
       "      <td>44</td>\n",
       "    </tr>\n",
       "    <tr>\n",
       "      <th>8</th>\n",
       "      <td>60</td>\n",
       "    </tr>\n",
       "    <tr>\n",
       "      <th>9</th>\n",
       "      <td>76</td>\n",
       "    </tr>\n",
       "    <tr>\n",
       "      <th>10</th>\n",
       "      <td>75</td>\n",
       "    </tr>\n",
       "    <tr>\n",
       "      <th>11</th>\n",
       "      <td>71</td>\n",
       "    </tr>\n",
       "    <tr>\n",
       "      <th>12</th>\n",
       "      <td>235</td>\n",
       "    </tr>\n",
       "    <tr>\n",
       "      <th>13</th>\n",
       "      <td>408</td>\n",
       "    </tr>\n",
       "    <tr>\n",
       "      <th>14</th>\n",
       "      <td>108</td>\n",
       "    </tr>\n",
       "    <tr>\n",
       "      <th>15</th>\n",
       "      <td>105</td>\n",
       "    </tr>\n",
       "    <tr>\n",
       "      <th>16</th>\n",
       "      <td>48</td>\n",
       "    </tr>\n",
       "    <tr>\n",
       "      <th>17</th>\n",
       "      <td>35</td>\n",
       "    </tr>\n",
       "    <tr>\n",
       "      <th>18</th>\n",
       "      <td>620</td>\n",
       "    </tr>\n",
       "  </tbody>\n",
       "</table>\n",
       "</div>"
      ],
      "text/plain": [
       "       Queries\n",
       "Label         \n",
       "0          222\n",
       "1          532\n",
       "2          203\n",
       "3           68\n",
       "4          437\n",
       "5           17\n",
       "6           59\n",
       "7           44\n",
       "8           60\n",
       "9           76\n",
       "10          75\n",
       "11          71\n",
       "12         235\n",
       "13         408\n",
       "14         108\n",
       "15         105\n",
       "16          48\n",
       "17          35\n",
       "18         620"
      ]
     },
     "execution_count": 6,
     "metadata": {},
     "output_type": "execute_result"
    }
   ],
   "source": [
    "#we get to know count of how many rows each label has\n",
    "df.groupby('Label').count()"
   ]
  },
  {
   "cell_type": "code",
   "execution_count": 7,
   "metadata": {},
   "outputs": [
    {
     "name": "stdout",
     "output_type": "stream",
     "text": [
      "Total Queries: 3423\n"
     ]
    }
   ],
   "source": [
    "print(\"Total Queries: {}\".format(int(df.groupby('Label').count().sum())))"
   ]
  },
  {
   "cell_type": "code",
   "execution_count": 11,
   "metadata": {
    "scrolled": true
   },
   "outputs": [
    {
     "name": "stdout",
     "output_type": "stream",
     "text": [
      "Model is being trained!!!\n",
      "Please Wait....\n",
      "Wall time: 32 ms\n",
      "-----DONE-----\n",
      "              precision    recall  f1-score   support\n",
      "\n",
      "           0     1.0000    0.9818    0.9908        55\n",
      "           1     0.8846    0.9746    0.9274       118\n",
      "           2     0.8158    0.6739    0.7381        46\n",
      "           3     1.0000    0.6667    0.8000        15\n",
      "           4     0.9302    0.9877    0.9581        81\n",
      "           5     0.0000    0.0000    0.0000         5\n",
      "           6     0.3750    0.3750    0.3750         8\n",
      "           7     0.0000    0.0000    0.0000        11\n",
      "           8     0.3529    0.4286    0.3871        14\n",
      "           9     0.3333    0.9167    0.4889        12\n",
      "          10     0.0000    0.0000    0.0000        17\n",
      "          11     1.0000    1.0000    1.0000        14\n",
      "          12     1.0000    0.5854    0.7385        41\n",
      "          13     0.7308    1.0000    0.8444        76\n",
      "          14     1.0000    0.6364    0.7778        22\n",
      "          15     0.9444    1.0000    0.9714        17\n",
      "          16     1.0000    0.8333    0.9091         6\n",
      "          17     0.0000    0.0000    0.0000        10\n",
      "          18     0.9070    1.0000    0.9512       117\n",
      "\n",
      "   micro avg     0.8423    0.8423    0.8423       685\n",
      "   macro avg     0.6460    0.6347    0.6241       685\n",
      "weighted avg     0.8174    0.8423    0.8184       685\n",
      "\n",
      "Accuracy: 0.8423357664233576\n"
     ]
    },
    {
     "name": "stderr",
     "output_type": "stream",
     "text": [
      "C:\\Users\\User\\Anaconda3\\lib\\site-packages\\sklearn\\metrics\\classification.py:1143: UndefinedMetricWarning: Precision and F-score are ill-defined and being set to 0.0 in labels with no predicted samples.\n",
      "  'precision', 'predicted', average, warn_for)\n"
     ]
    }
   ],
   "source": [
    "data = df['Queries']\n",
    "labels = df['Label']\n",
    "\n",
    "naive_bayes = Pipeline([('vect', CountVectorizer()),\n",
    "                     ('tfidf', TfidfTransformer()),\n",
    "                     ('clf', MultinomialNB())])\n",
    "\n",
    "x_train, x_test, y_train, y_test = train_test_split(data, labels, test_size=0.2, random_state=42)\n",
    "\n",
    "print(\"Naive Bayes Model is being trained!!!\")\n",
    "print(\"Please Wait....\")\n",
    "%time naive_bayes.fit(x_train, y_train)\n",
    "print(\"-----DONE-----\")\n",
    "print(classification_report(y_test, naive_bayes.predict(x_test), digits=4))\n",
    "y_pred = naive_bayes.predict(x_test)\n",
    "print(\"Accuracy:\",accuracy_score(y_test, y_pred))"
   ]
  },
  {
   "cell_type": "code",
   "execution_count": 9,
   "metadata": {},
   "outputs": [
    {
     "name": "stdout",
     "output_type": "stream",
     "text": [
      "Model is being trained!!!\n",
      "Please Wait....\n",
      "Wall time: 276 ms\n",
      "-----DONE-----\n",
      "              precision    recall  f1-score   support\n",
      "\n",
      "           0     1.0000    0.7636    0.8660        55\n",
      "           1     1.0000    0.8898    0.9417       118\n",
      "           2     0.8333    0.8696    0.8511        46\n",
      "           3     1.0000    0.5333    0.6957        15\n",
      "           4     1.0000    0.9383    0.9682        81\n",
      "           5     1.0000    0.4000    0.5714         5\n",
      "           6     0.2500    0.3750    0.3000         8\n",
      "           7     0.0000    0.0000    0.0000        11\n",
      "           8     0.5000    0.0714    0.1250        14\n",
      "           9     0.2000    0.4167    0.2703        12\n",
      "          10     0.1250    0.0588    0.0800        17\n",
      "          11     1.0000    0.9286    0.9630        14\n",
      "          12     0.3519    0.9268    0.5101        41\n",
      "          13     0.8824    0.7895    0.8333        76\n",
      "          14     0.7857    0.5000    0.6111        22\n",
      "          15     0.7895    0.8824    0.8333        17\n",
      "          16     1.0000    0.6667    0.8000         6\n",
      "          17     0.4000    0.2000    0.2667        10\n",
      "          18     0.9339    0.9658    0.9496       117\n",
      "\n",
      "   micro avg     0.7869    0.7869    0.7869       685\n",
      "   macro avg     0.6869    0.5882    0.6019       685\n",
      "weighted avg     0.8340    0.7869    0.7916       685\n",
      "\n",
      "Accuracy: 0.7868613138686131\n"
     ]
    }
   ],
   "source": [
    "data = df['Queries']\n",
    "labels = df['Label']\n",
    "\n",
    "x_train, x_test, y_train, y_test = train_test_split(data, labels, test_size=0.2, random_state=42)\n",
    "\n",
    "decision_tree = Pipeline([\n",
    "            ('vect', CountVectorizer( ngram_range=(2,4))),\n",
    "            ('tfidf', TfidfTransformer()),\n",
    "            ('clf', DecisionTreeClassifier(criterion='gini', splitter='best')),\n",
    "])\n",
    "\n",
    "\n",
    "print(\"Decision Tree Model is being trained!!!\")\n",
    "print(\"Please Wait....\")\n",
    "%time decision_tree.fit(x_train, y_train)\n",
    "print(\"-----DONE-----\")\n",
    "print(classification_report(y_test, decision_tree.predict(x_test), digits=4))\n",
    "y_pred = decision_tree.predict(x_test)\n",
    "print(\"Accuracy:\",accuracy_score(y_test, y_pred))"
   ]
  },
  {
   "cell_type": "code",
   "execution_count": 10,
   "metadata": {},
   "outputs": [
    {
     "name": "stdout",
     "output_type": "stream",
     "text": [
      "Model is being trained!!!\n",
      "Please Wait....\n",
      "Wall time: 2.85 s\n",
      "-----DONE-----\n",
      "              precision    recall  f1-score   support\n",
      "\n",
      "           0     1.0000    0.8545    0.9216        55\n",
      "           1     0.9912    0.9576    0.9741       118\n",
      "           2     0.9756    0.8696    0.9195        46\n",
      "           3     1.0000    0.5333    0.6957        15\n",
      "           4     1.0000    0.9630    0.9811        81\n",
      "           5     1.0000    0.4000    0.5714         5\n",
      "           6     0.2222    0.2500    0.2353         8\n",
      "           7     0.1429    0.0909    0.1111        11\n",
      "           8     0.3333    0.0714    0.1176        14\n",
      "           9     0.1739    0.3333    0.2286        12\n",
      "          10     0.2000    0.1176    0.1481        17\n",
      "          11     1.0000    1.0000    1.0000        14\n",
      "          12     0.4062    0.9512    0.5693        41\n",
      "          13     0.8732    0.8158    0.8435        76\n",
      "          14     1.0000    0.4545    0.6250        22\n",
      "          15     0.7619    0.9412    0.8421        17\n",
      "          16     1.0000    0.8333    0.9091         6\n",
      "          17     0.3333    0.1000    0.1538        10\n",
      "          18     0.9268    0.9744    0.9500       117\n",
      "\n",
      "   micro avg     0.8161    0.8161    0.8161       685\n",
      "   macro avg     0.7021    0.6059    0.6209       685\n",
      "weighted avg     0.8483    0.8161    0.8151       685\n",
      "\n",
      "Accuracy: 0.8160583941605839\n"
     ]
    }
   ],
   "source": [
    "data = df['Queries']\n",
    "labels = df['Label']\n",
    "\n",
    "x_train, x_test, y_train, y_test = train_test_split(data, labels, test_size=0.2, random_state=42)\n",
    "\n",
    "random_forrest = Pipeline([\n",
    "            ('vect', CountVectorizer( ngram_range=(2,4))),\n",
    "            ('tfidf', TfidfTransformer()),\n",
    "            ('clf', RandomForestClassifier(n_estimators=100,criterion='entropy'))\n",
    "            ])\n",
    "\n",
    "print(\"Random Forest Model is being trained!!!\")\n",
    "print(\"Please Wait....\")\n",
    "%time random_forrest.fit(x_train, y_train)\n",
    "print(\"-----DONE-----\")\n",
    "print(classification_report(y_test, random_forrest.predict(x_test), digits=4))\n",
    "y_pred = random_forrest.predict(x_test)\n",
    "print(\"Accuracy:\",accuracy_score(y_test, y_pred))"
   ]
  }
 ],
 "metadata": {
  "kernelspec": {
   "display_name": "Python 3",
   "language": "python",
   "name": "python3"
  },
  "language_info": {
   "codemirror_mode": {
    "name": "ipython",
    "version": 3
   },
   "file_extension": ".py",
   "mimetype": "text/x-python",
   "name": "python",
   "nbconvert_exporter": "python",
   "pygments_lexer": "ipython3",
   "version": "3.7.1"
  }
 },
 "nbformat": 4,
 "nbformat_minor": 2
}
